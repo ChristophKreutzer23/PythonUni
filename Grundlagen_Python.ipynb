{
  "cells": [
    {
      "cell_type": "markdown",
      "metadata": {
        "id": "kg8_e2O_o5BO"
      },
      "source": [
        "# **Hello World**\n",
        "\n",
        "Mit dem Kommando **print** können Strings innerhalb der Konsole ausgegeben werden:"
      ]
    },
    {
      "cell_type": "code",
      "execution_count": null,
      "metadata": {
        "id": "OoaLiHgspBqV"
      },
      "outputs": [],
      "source": [
        "print(\"hello World\")"
      ]
    },
    {
      "cell_type": "markdown",
      "metadata": {
        "id": "UlypWPippGFc"
      },
      "source": [
        "## Hello World - Erweiterung (Benutzereingabe)\n",
        "\n",
        "Mit dem Kommando **input** können Strings vom Benutzer eingelesen werden. \n",
        "Die Eingabe muss anschließend in einer Variable zwischengespeichert werden.\n",
        "Da es in Python keine explizieten Datentypen gibt, legt man jede Variable ohne Angabe des Typs an.\n",
        "\n",
        "Bei der Ausgabe kann diese Variable verwendet werden. Möchte man vorher oder nachher noch einen Standard-Text ausgeben, kann dieser \n",
        "mittels **+** mit der Variable kombiniert werden:"
      ]
    },
    {
      "cell_type": "code",
      "execution_count": null,
      "metadata": {
        "id": "W7Mhk0SbpJdM"
      },
      "outputs": [],
      "source": [
        "eingabe = input(\"Bitte gib deinen Namen ein: \")\n",
        "print(\"Hello \" + eingabe)"
      ]
    },
    {
      "cell_type": "markdown",
      "metadata": {
        "id": "42T7rQRBpNXW"
      },
      "source": [
        "# **Datentypen**\n",
        "\n",
        "In Python nutzt man zwar keine expliziten Datentypen. Trotzdem werden Variablien innerhalb von Python typisiert.\n",
        "Damit man herausfinden kann, zu welchem Datentyp eine Variable gehört, besitzt Python die Funktion **type()**:"
      ]
    },
    {
      "cell_type": "code",
      "execution_count": null,
      "metadata": {
        "id": "g9dM-bRTpRBH"
      },
      "outputs": [],
      "source": [
        "x = 3\n",
        "y = \"hallo\"\n",
        "z = 1234.54464578\n",
        "\n",
        "print(type(x))\n",
        "print(type(y))\n",
        "print(type(z))"
      ]
    },
    {
      "cell_type": "markdown",
      "metadata": {
        "id": "ZnFfXzg8pTrn"
      },
      "source": [
        "## Dynamische Variablen\n",
        "\n",
        "Das schöne an Python ist also, dass wir uns nicht selbst um die Typisierung kümmern müssen. \n",
        "Aber dies ist Fluch und Segen zugleich, denn die Datentypen einer Variablen in Python sind dynamisch anpassbar.\n",
        "Das bedeutet, speichert man in einer Variable einen String und im nächsten Moment einen Integer-Wert, ändert sich \n",
        "auch der Datentyp der Variable. Dies kann zu unerwarteten Fehlern führen:"
      ]
    },
    {
      "cell_type": "code",
      "execution_count": null,
      "metadata": {
        "id": "IPvyfkFdpXHP"
      },
      "outputs": [],
      "source": [
        "x = \"hallo\"\n",
        "print(type(x))\n",
        "x = 3\n",
        "print(type(x))"
      ]
    },
    {
      "cell_type": "markdown",
      "metadata": {
        "id": "HXEhV4RMpace"
      },
      "source": [
        "## Datentypen beim Einlesen von Werten\n",
        "\n",
        "Grunsätzlich gilt. Das Werte die über den **input** eingelesen werden immer als String eingelesen werden.\n",
        "Möchte man innerhalb eines Taschenrechners zwei Werte miteinander addieren, kommt es daher zu folgenden Problem:"
      ]
    },
    {
      "cell_type": "code",
      "execution_count": null,
      "metadata": {
        "id": "JAiSIO2rpdC-"
      },
      "outputs": [],
      "source": [
        "a = input(\"Wert a: \")\n",
        "b = input(\"Wert b: \")\n",
        "print(\"Wert a lautet: \" + a)\n",
        "print(\"Wert b lautet: \" + b)\n",
        "print(\"a + b = \" + a+b)"
      ]
    },
    {
      "cell_type": "markdown",
      "metadata": {
        "id": "C9LkE45ApiJO"
      },
      "source": [
        "# **Cast von Datentypen**\n",
        "\n",
        "Da Wert a und Wert b von Python als String eingelesen wurden, werden die Werte beim Addieren einfach hintereinander gehängt.\n",
        "Um das Problem zu lösen, müssen wir Python während des Einlesens sagen, dass diese Werte als **Integer** definiert werden sollen.\n",
        "Dies können wir mit der cast-Funktion **int()** erledigen: "
      ]
    },
    {
      "cell_type": "code",
      "execution_count": null,
      "metadata": {
        "id": "6DCvWG5tpmYW"
      },
      "outputs": [],
      "source": [
        "a = int(input(\"Wert a: \"))\n",
        "b = int(input(\"Wert b: \"))\n",
        "print(\"Wert a lautet: \" + str(a))\n",
        "print(\"Wert b lautet: \" + str(b))\n",
        "print(\"a + b = \" + str(a+b))"
      ]
    },
    {
      "cell_type": "markdown",
      "metadata": {
        "id": "UitkG0wNpqww"
      },
      "source": [
        "Wie man oben sieht, hat unser Progamm während der Laufzeit einen TypeError erkannt.\n",
        "Durch den Cast von **String** zu **Integer**, sind die Variablen **a** und **b** nun vom Typ\n",
        "**Integer**. Eine Ausgabe mit **print** kann jedoch lediglich Strings ausgeben.\n",
        "Dies bedeutet wir müssen während der Ausgabe die Variablen **a** und **b** wieder zu einem String casten.\n",
        "Auch hierfür gibt es eine Funktion: **str()**: "
      ]
    },
    {
      "cell_type": "code",
      "execution_count": null,
      "metadata": {
        "id": "2cs1_lK7ptFB"
      },
      "outputs": [],
      "source": [
        "a = int(input(\"Wert a: \"))\n",
        "b = int(input(\"Wert b: \"))\n",
        "print(\"Wert a lautet: \" + str(a))\n",
        "print(\"Wert b lautet: \" + str(b))\n",
        "print(\"a + b = \" + str(a+b))"
      ]
    },
    {
      "cell_type": "markdown",
      "metadata": {
        "id": "zJRzBFJKpzix"
      },
      "source": [
        "## Temporärer Cast\n",
        "\n",
        "Nun stimmt das Ergebnis...\n",
        "\n",
        "Da es sich beim Casten von **Integer** zu **String** um KEINE Wertzuweisung handelt, ist der Cast nur temporär.\n",
        "Das bedeutet die Variablen **a** und **b** behalten den Datentyp **Integer**:"
      ]
    },
    {
      "cell_type": "code",
      "execution_count": null,
      "metadata": {
        "id": "PIzk-cSPp3J0"
      },
      "outputs": [],
      "source": [
        "a = int(input(\"Wert a: \"))\n",
        "b = int(input(\"Wert b: \"))\n",
        "print(\"Wert a lautet: \" + str(a))\n",
        "print(\"Wert b lautet: \" + str(b))\n",
        "print(\"a + b = \" + str(a+b))\n",
        "print(type(a))\n",
        "print(type(b))"
      ]
    },
    {
      "cell_type": "markdown",
      "metadata": {
        "id": "IZ4GBF1d7l7L"
      },
      "source": [
        "## **Listen**\n",
        "\n",
        "\n",
        "In Python existiert auch die Möglichkeit **Listen** anzulegen:"
      ]
    },
    {
      "cell_type": "code",
      "execution_count": null,
      "metadata": {
        "id": "jq7l7KXv7wNN"
      },
      "outputs": [],
      "source": [
        "a = [1,2,3,4,5,6,7,8,9]\n",
        "print(a[1])"
      ]
    },
    {
      "cell_type": "markdown",
      "metadata": {
        "id": "EKg0btLo75xO"
      },
      "source": [
        "Das schöne an **Listen** in Python ist, man kann dieses direkt ausgeben lassen, ohne mit einer Schleife über die Speicherstelle zu iterieren:"
      ]
    },
    {
      "cell_type": "code",
      "execution_count": null,
      "metadata": {
        "id": "Ul0LVFA28Jju"
      },
      "outputs": [],
      "source": [
        "a = [1,2,3,4,5,6,7,8,9]\n",
        "print(a)"
      ]
    },
    {
      "cell_type": "markdown",
      "metadata": {
        "id": "Vii2HU_g8QOP"
      },
      "source": [
        "Im Gegensatz zu anderen Programmiersprachen, müssen die Stellen im Array nicht vom gleichen Datentyp sein. **Strings, Integer, Float ...** lassen sich mischen:\n"
      ]
    },
    {
      "cell_type": "code",
      "execution_count": null,
      "metadata": {
        "id": "XTUdwsft8jPh"
      },
      "outputs": [],
      "source": [
        "a = [1,2,3,4,\"hallo\",6,7,44.6789,9]\n",
        "print(a)"
      ]
    },
    {
      "cell_type": "markdown",
      "metadata": {
        "id": "8OyIXkvZB_Nv"
      },
      "source": [
        "# **Dictionaries**\n",
        "\n",
        "Dictionaries werden verwendet, um Daten in key:value Paaren zu speichern. In anderen Programmiersprachen werden solche Konstrukte oft als Map bezeichnet. "
      ]
    },
    {
      "cell_type": "code",
      "execution_count": null,
      "metadata": {
        "id": "z0hXkeQJnlaK"
      },
      "outputs": [],
      "source": [
        "dictionary = {\n",
        "    'elementA': 1,\n",
        "    'elementB': True,\n",
        "    'elementC': 'test'\n",
        "}\n",
        "\n",
        "print(dictionary)\n",
        "\n",
        "print(dictionary['elementA'])\n",
        "\n",
        "dictionary['elementA'] = 'test2'\n",
        "\n",
        "print(dictionary)"
      ]
    },
    {
      "cell_type": "markdown",
      "metadata": {
        "id": "7dL4bVRzoQj_"
      },
      "source": [
        "Dictionaries werden mit geschweiften Klammern erstellt, zwischen denen die **keys** mit ihren **values** angegeben werden. Dabei werden für die keys normalerweise strings verwendet, während die values jeden beliebigen Datentyp haben können. Mit den eckigen Klammern kann auf einen Wert zugegriffen oder dieser verändert werden."
      ]
    },
    {
      "cell_type": "markdown",
      "metadata": {
        "id": "jv8K1SNNrmAw"
      },
      "source": [
        "# **Kontrollstrukturen / Anweisungen**\n",
        "\n",
        "Natürlich existieren auch innerhalb von Python die Anweisungsmechanismen **if**, **else if** und **else**. Dabei ist folgenden Syntax zu beachten:\n",
        "\n",
        "1. In Python nutzt man für else **if --> elif,** für **if --> if** und für **else --> else** .\n",
        "2. Kontrollstrukturen verzichten auf runde Klammern **\"()\"** .\n",
        "3. Hinter jede Kontrollstruktur muss ein **\":\"** .\n",
        "\n",
        "Beispiel:\n"
      ]
    },
    {
      "cell_type": "code",
      "execution_count": null,
      "metadata": {
        "id": "1HIiCOngsG1s"
      },
      "outputs": [],
      "source": [
        "x = int(input(\"Bitte Zahl eingeben: \"))\n",
        "if x > 100:\n",
        "    print(\"x ist sehr groß\")\n",
        "elif x > 10:\n",
        "    print(\"x ist groß\")\n",
        "else:\n",
        "    print(\"x ist klein\")"
      ]
    },
    {
      "cell_type": "markdown",
      "metadata": {
        "id": "9DEIIFJ4t3oG"
      },
      "source": [
        "## Switch Case\n",
        "Pythonn besitzt ab Version 3.10 ein **Match Case Statement**, welches sehr ähnlich wie Switch Case arbeitet. \n",
        "\n",
        "Da es jedoch in älteren Versionen von Python kein **switch Statement** gibt, müssen wir uns anderer Strategien bedienen. Eine davon ist ein Dictionary zu verwenden, wie hier gezeigt.\n",
        "Vereinfachte **Switch-Case** Funktionalität mit Dictionary. In diesem Fall benötigen wir dan nauch die geschweiften Klammern:\n",
        "\n"
      ]
    },
    {
      "cell_type": "code",
      "execution_count": null,
      "metadata": {
        "id": "L85OyBoO49_S"
      },
      "outputs": [],
      "source": [
        "\n",
        "switcher={\n",
        "  0:'Sunday',\n",
        "  1:'Monday',\n",
        "  2:'Tuesday',\n",
        "  3:'Wednesday',\n",
        "  4:'Thursday',\n",
        "  5:'Friday',\n",
        "  6:'Saturday'\n",
        "}\n",
        "i = int(input(\"Zahl zwischen 1 und 6 eingeben: \"))\n",
        "switcher.get(i,\"Invalid day of week\")"
      ]
    },
    {
      "cell_type": "markdown",
      "metadata": {
        "id": "zfLM3Py3L70Z"
      },
      "source": [
        "# **Schleifen**\n",
        "\n",
        "In Python können die folgenden Schleifen genutzt werden: **for** und **while**.\n"
      ]
    },
    {
      "cell_type": "markdown",
      "metadata": {
        "id": "JttAzlSDCT42"
      },
      "source": [
        "# for-Schleife\n",
        "Anders als in den meisten anderen Programmiersprachen ist die for-Schleife in Python keine zählergesteuerte, sondern eine **mengengesteuerte** Schleife. Sie entspricht damit eher einer foreach Schleife in Programmiersprachen wie Java oder C#. \n",
        "\n",
        "Mithilfe der for-Schleife werden alle Elemente einer Menge (hier z.B. einer Liste) durchlaufen."
      ]
    },
    {
      "cell_type": "code",
      "execution_count": null,
      "metadata": {
        "id": "qSgKptZQCT42"
      },
      "outputs": [],
      "source": [
        "fruits = [\"apple\", \"banana\", \"cherry\"]\n",
        "for x in fruits:\n",
        "    print(x)"
      ]
    },
    {
      "cell_type": "markdown",
      "metadata": {
        "id": "QMb_IwOK_1c7"
      },
      "source": [
        "Die in Python eingebaute Funktion range(*start*, *stop*, *step*) liefert eine Sequenz von Zahlen zurück, die mit *start* beginnen, vor *stop* aufhören und immer um *step* erhöht werden. Wird *start* weggelassen, wird standardmäßig die 0 als Wert angenommen, wird *step* weggelassen, wird der Wert immer um 1 erhöht.\n",
        "\n",
        "Auf diese Weise kann eine Zählschleife simuliert werden:"
      ]
    },
    {
      "cell_type": "code",
      "execution_count": null,
      "metadata": {
        "id": "Oxuj1AxACauY"
      },
      "outputs": [],
      "source": [
        "for i in range(10):\n",
        "    print(i)"
      ]
    },
    {
      "cell_type": "markdown",
      "metadata": {
        "id": "erhY0lvNQ8MY"
      },
      "source": [
        "# while-Schleife\n",
        "Eine while-Schleife ist eine Kopfgesteuert Schleife, welche anhand von Bedingungen beenndet wird. Diese Schleife wird gennutzt, wenn die Anzahl der Schleifendurchläufe erst zur Laufzeit entschieden wird:  "
      ]
    },
    {
      "cell_type": "code",
      "execution_count": null,
      "metadata": {
        "id": "cSyqgJL6RBcO"
      },
      "outputs": [],
      "source": [
        "i = input()\n",
        "while i != \"ende\":\n",
        "    i = input()"
      ]
    },
    {
      "cell_type": "markdown",
      "metadata": {
        "id": "AE6oGSo5APSC"
      },
      "source": [
        "Eine Besonderheit in Python ist, dass man auch bei Schleifen einen **else** Block angeben kann. Dieser wird ausgeführt, sobald die Bedingung nicht mehr wahr ist.\n",
        "\n",
        "Durch ein **break** kann die Schleife im aktuellen Schleifendurchlauf unterbrochen werden, in diesem Fall wird der else Block nicht ausgeführt:"
      ]
    },
    {
      "cell_type": "code",
      "execution_count": null,
      "metadata": {
        "id": "zMlCWeyGAeTM"
      },
      "outputs": [],
      "source": [
        "print(\"Passwort:\")\n",
        "p = input()\n",
        "i = 0\n",
        "while p != \"sicherespw\":\n",
        "    print(\"Passwort:\")\n",
        "    p = input()\n",
        "    i += 1\n",
        "    if i == 3:\n",
        "        print(\"Zu viele Versuche!\")\n",
        "        break\n",
        "else:\n",
        "    print(\"Passwort richtig!\")\n"
      ]
    },
    {
      "cell_type": "markdown",
      "metadata": {
        "id": "4JAOPVB_srOs"
      },
      "source": [
        "# **Eigene Funktionen**"
      ]
    },
    {
      "cell_type": "markdown",
      "metadata": {
        "id": "nbInKlZksvQ7"
      },
      "source": [
        "Mit dem Schlüsselwort **def** kann man eigene Funktionen erstellen. Wichtig ist der Doppelpunkt hinter der Parameterklammer der Funktion. \n",
        "Als Beispiel legen wir eine Funktion mit dem Namen **eigen** an.\n",
        "\n",
        "\n",
        "**Wichtig: Funktionen müssen vor Funktionsaufruf deklariert werden!!**"
      ]
    },
    {
      "cell_type": "code",
      "execution_count": null,
      "metadata": {
        "id": "KtdfGIFos3E2"
      },
      "outputs": [],
      "source": [
        "def eigen(): # Deklaration\n",
        "    print(\"eigene Funktion\")\n",
        "\n",
        "eigen() # Aufruf"
      ]
    },
    {
      "cell_type": "markdown",
      "metadata": {
        "id": "dWoLvmg7pE9X"
      },
      "source": [
        "# **Dateihandling**\n",
        "\n",
        "Das Arbeiten mit Dateien ist mit den eingebauten Funktionen in Python sehr einfach möglich. Um eine Datei zu bearbeiten/auszulesen, muss diese geöffnet werden."
      ]
    },
    {
      "cell_type": "code",
      "execution_count": null,
      "metadata": {
        "id": "-XBd6MxwpWFt"
      },
      "outputs": [],
      "source": [
        "datei = open('test-datei.txt', 'r+')\n",
        "\n",
        "for zeile in datei:\n",
        "    print(zeile)\n",
        "\n",
        "datei.close()"
      ]
    },
    {
      "cell_type": "markdown",
      "metadata": {
        "id": "CpMe9KmRpulP"
      },
      "source": [
        "Hier wird die **test-datei.txt** zum lesen geöffnet. Die **open** Funktion erhält den Pfad zur Datei als ersten Parameter und der Modus, in dem die Datei geöffnet werden soll als zweiten Parameter. In der folgenden Tabelle findet man die gängisten Parameter für Textdateien.\n",
        "\n",
        "|Parameter|Modus|\n",
        "|----|----|\n",
        "| r |*read* - öffnet die Datei zum lesen.|\n",
        "| w |*write* - öffnet die Datei zum schreiben, der Inhalt der Datei wird gelöscht.|\n",
        "| a |*append* - öffnet die Datei zum schreiben, der neue Inhalt wird angehangen.|\n",
        "| r+ |*read/write* - öffnet die Datei zum lesen und schreiben.|"
      ]
    },
    {
      "cell_type": "markdown",
      "metadata": {
        "id": "2R1oz0xSswhC"
      },
      "source": [
        "# **Module laden**\n",
        "\n",
        "Neben den vielen integrierten Funktionen von Python gibt es für viele Anwendungsfälle externe **Module**, die die Funktionalität bereitstellen. Diese Module können über das *import* Schlüsselwort eingebunden werden. Im folgenden Beispiel wirdd das Modul sys importiert. Mit diesem Modul hat man die Möglichkeit über Python auf system-spezifische Strukturen zurückzugreifen."
      ]
    },
    {
      "cell_type": "code",
      "execution_count": null,
      "metadata": {
        "id": "pSVkZCUctF36"
      },
      "outputs": [],
      "source": [
        "import sys\n",
        "\n",
        "print(sys.path)"
      ]
    },
    {
      "cell_type": "markdown",
      "metadata": {
        "id": "aylFi0qCG_sI"
      },
      "source": [
        "# **Projekte**\n"
      ]
    },
    {
      "cell_type": "markdown",
      "metadata": {
        "id": "zwstcAoH8sLk"
      },
      "source": [
        "# Methoden und externe Module verwenden (Beispiel Passwort erstellen)"
      ]
    },
    {
      "cell_type": "markdown",
      "metadata": {
        "id": "hrbAXwSFzeBc"
      },
      "source": [
        "Wie viele andere Programmiersprachen bieten die vorgefertigten Datentypen in Python Methoden an. Der Nutzen von Methoden wird an einem Beispielprogramm deutlich:\n",
        "\n",
        "Im folgenden soll ein Programm erstellt werden, dass ein eingegebenes Passwort qualitativ überprüft. Es sollen folgende Regeln berücksichtigt werden.\n",
        "\n",
        "**Das Passwort soll:**\n",
        "*   mindestens 8 Zeichen lang sein. \n",
        "*   mindestens eine Zahl enthalten.\n",
        "*   aus Groß- und Kleinbuchstaben bestehen.\n",
        "*   mindestens ein Sonderzeichen enthalten.\n",
        "\n",
        "Der Typ **str** bietet Methoden an, um zu überprüfen, ob alle Zeichen in einem String eine bestimmte Eigenschaft erfüllen:\n",
        "\n",
        "*   isupper() - überprüft, ob alle Zeichen eines strings Großbuchstaben sind\n",
        "*   islower() - überprüft, ob alle Zeichen eines strings Kleinbuchstaben sind\n",
        "*   isdigit() - überprüft, ob alle Zeichen eines strings Ziffern sind\n",
        "*   isalnum() - überprüft, ob alle Zeichen eines strings Buchstaben oder Ziffern sind"
      ]
    },
    {
      "cell_type": "code",
      "execution_count": null,
      "metadata": {
        "id": "-4INEVmW5rRB"
      },
      "outputs": [],
      "source": [
        "print(\"Ihr Passwort soll mindestens 8 Zeichen lang sein.\")\n",
        "print(\"Ihr Passwort soll mindestens eine Zahl beinhalten.\")\n",
        "print(\"Ihr Passwort soll aus Groß und Kleinbuchstaben bestehen.\")\n",
        "print(\"Ihr Passwort soll aus mindestens einem Sonderzeichen bestehen.\")\n",
        "pw = input(\"Geben Sie ein Passwort ein: \")\n",
        "\n",
        "upper = False\n",
        "lower = False\n",
        "number = False\n",
        "length = False\n",
        "special = False\n",
        "msg = \"\"\n",
        "if len(pw) >= 8:\n",
        "    length = True\n",
        "    for letter in pw:\n",
        "        if letter.isupper():\n",
        "            upper = True\n",
        "        elif letter.islower():\n",
        "            lower = True\n",
        "        elif letter.isdigit():\n",
        "            number = True\n",
        "        elif not letter.isalnum():\n",
        "            special = True\n",
        "    if not upper:\n",
        "        msg = \"ERROR: Passwort muss mindestens einen großen Buchstaben besitzen!\"\n",
        "    elif not lower:\n",
        "        msg =\"ERROR: Passwort muss mindestens einen kleinen Buchstaben besitzen!\"\n",
        "    elif not number:\n",
        "        msg = \"ERROR: Passwort muss mindestens eine Zahl besitzen!\"\n",
        "    elif not special:\n",
        "        msg = \"ERROR: Passwort muss mindestens ein Sonderzeichen besitzen!\"\n",
        "    else:\n",
        "        msg = \"Passwort wurde angelegt!\"\n",
        "else:\n",
        "    msg = \"ERROR: Passwort zu kurz\"\n",
        "\n",
        "print(msg)\n"
      ]
    },
    {
      "cell_type": "markdown",
      "metadata": {
        "id": "OoMdkyUc-DeS"
      },
      "source": [
        "# Passwort automatisch generieren"
      ]
    },
    {
      "cell_type": "markdown",
      "metadata": {
        "id": "ZVMI5Msm_aCp"
      },
      "source": [
        "Im nächsten Schritt soll ein Passwort selbst zufällig erstellt werden.\n",
        "Hier bietet es sich an ein externen Modul zu inkludieren. Externe Module können über das Schlüsselwort **import** genutzt werden.\n",
        "\n",
        "Um ein zufälliges Passwort zu erstellen, kann die Funktion **choice** des externen Moduls **Random** genutzt werden. Dieses erhält als Parameter eine Liste und liefert dann ein zufälliges Element der Liste zurück. Wiederholt man diesen Vorgang und reiht die verschiedenen Zeichen aneinander, erhält man am Schluss ein recht effektives Passwort.\n",
        "\n",
        "Siehe Lösung:"
      ]
    },
    {
      "cell_type": "code",
      "execution_count": null,
      "metadata": {
        "id": "zX0vBfxCAogn"
      },
      "outputs": [],
      "source": [
        "import random\n",
        "charlist = ['0', '1', '2', '3', '4', '5', '6', '7', '8', '9', \n",
        "            'a', 'b', 'c', 'd', 'e', 'f', 'g', 'h', 'i', 'j', 'k', 'l', 'm', 'n', 'o', 'p', 'q', 'r', 's', 't', 'u', 'v', 'w', 'x', 'y', 'z',\n",
        "            'A', 'B', 'C', 'D', 'E', 'F', 'G', 'H', 'I', 'J', 'K', 'L', 'M', 'N', 'O', 'P', 'Q', 'R', 'S', 'T', 'U', 'V', 'W', 'X', 'Y', 'Z',\n",
        "            '%','&','-','!','?','$','=','§']\n",
        "\n",
        "l = input(\"Geben Sie die Länge des Passwortes ein: \")\n",
        "\n",
        "pw = \"\"\n",
        "for c in range(int(l)):\n",
        "    element = random.choice(charlist)\n",
        "    pw = pw + element\n",
        "\n",
        "print(pw)"
      ]
    },
    {
      "cell_type": "markdown",
      "metadata": {
        "id": "K8HLzSLtqNsZ"
      },
      "source": [
        "# Sicheres Passwort generieren\n",
        "\n",
        "Im folgenden Beispiel soll einn sicheres Passwort generiert werden. Hier kann der Code von oben teilweise wiederverwendet werden. \n",
        "\n",
        "Dabei gilt: Ein Passwort ist dann sicher, wenn es:\n",
        "\n",
        "\n",
        "1.   mindestens 8 Zeichen lang ist.\n",
        "2.   mindestens einen großen Buchstaben besitzt.\n",
        "1.   mindestens einen kleinen Buchstaben besitzt.\n",
        "2.   mindestens ein Sonderzeichen besitzt.\n",
        "1.   und mindestens eine Zahl beinhaltet.\n",
        "\n",
        "Damit diese Regel über den Algorithmus befolgt wird, wird ein zufälliges PW erstellt, welches dann bzgl. der geltenden Regeln kontrolliert wird. \n",
        "Entspricht das Passwort nicht der Vorgabe, werden an zufälligen Positionen zufällige Zeichen eingefügt, welche dann dafür sorgen, dass das Passwort den Sicherheitsregeln entspricht.\n",
        "\n",
        "Zur Überprüfung kann man eigene Funktionen schreiben, welche den Quellcode übersichtlicher machen z.B:"
      ]
    },
    {
      "cell_type": "code",
      "execution_count": null,
      "metadata": {
        "id": "acTQ-pWmq7sL"
      },
      "outputs": [],
      "source": [
        "def check_pw(pw): # Passwort-checker erhält einen Parameter"
      ]
    },
    {
      "cell_type": "markdown",
      "metadata": {
        "id": "LgkRFllZrA3R"
      },
      "source": [
        "\n",
        "Siehe Lösung:"
      ]
    },
    {
      "cell_type": "code",
      "execution_count": null,
      "metadata": {
        "id": "aFTpFPs9qg-7"
      },
      "outputs": [],
      "source": [
        "import random\n",
        "\n",
        "numbers = ['0', '1', '2', '3', '4', '5', '6', '7', '8', '9']\n",
        "lower_case = ['a', 'b', 'c', 'd', 'e', 'f', 'g', 'h', 'i', 'j', 'k', 'l', 'm', 'n', 'o', 'p', 'q', 'r', 's', 't', 'u', 'v', 'w', 'x', 'y', 'z']\n",
        "upper_case = ['A', 'B', 'C', 'D', 'E', 'F', 'G', 'H', 'I', 'J', 'K', 'L', 'M', 'N', 'O', 'P', 'Q', 'R', 'S', 'T', 'U', 'V', 'W', 'X', 'Y', 'Z']\n",
        "special = ['%','&','-','!','?','$','=','§']\n",
        "charlist = numbers.copy()\n",
        "charlist.extend(lower_case)\n",
        "charlist.extend(upper_case)\n",
        "charlist.extend(special)\n",
        "\n",
        "def check_pw(pw):\n",
        "    upper = False\n",
        "    lower = False\n",
        "    number = False\n",
        "    length = False\n",
        "    special = False\n",
        "    msg = \"\"\n",
        "    if len(pw) >= 8:\n",
        "        length = True\n",
        "        for letter in pw:\n",
        "            if letter.isupper():\n",
        "                upper = True\n",
        "            elif letter.islower():\n",
        "                lower = True\n",
        "            elif letter.isdigit():\n",
        "                number = True\n",
        "            elif not letter.isalnum():\n",
        "                special = True\n",
        "        if not (upper and lower and number and special):\n",
        "            return False\n",
        "        return True\n",
        "    else:\n",
        "        return False\n",
        "    \n",
        "def add_characters(pw):\n",
        "    positions = random.sample(range(len(pw)),4)\n",
        "    positions.sort()\n",
        "    return pw[0:positions[0]] + random.choice(numbers) + pw[positions[0]+1:positions[1]] + random.choice(lower_case) + pw[positions[1]+1:positions[2]] + random.choice(upper_case) + pw[positions[2]+1:positions[3]] + random.choice(special) + pw[positions[3]+1:]\n",
        "  \n",
        "l = int(input(\"Geben Sie die Länge des Passwortes ein (Zahl >= 8): \"))\n",
        "\n",
        "if l >= 8:\n",
        "    pw = \"\"\n",
        "    for c in range(int(l)):\n",
        "        element = random.choice(charlist)\n",
        "        pw = pw + element\n",
        "\n",
        "    if not check_pw(pw):\n",
        "        pw = add_characters(pw)\n",
        "\n",
        "    print('pw:', pw)\n",
        "    print('length:', len(pw))\n"
      ]
    },
    {
      "cell_type": "markdown",
      "metadata": {
        "id": "xuBp-WA4-e0Z"
      },
      "source": [
        "# Datei schreiben und lesen"
      ]
    },
    {
      "cell_type": "markdown",
      "metadata": {
        "id": "pISnXILN9zZV"
      },
      "source": [
        "Mit Hilfe der Funktion **open** kann in Python eine externe Datei geöffnet werden.\n",
        "\n",
        "Die geöffnete Datei wird einer Variable zugewiesen.\n",
        "Über diese Variable können dann Funktionen aufgerufen werden, die zum Bearbeiten der Datei nötig sind:\n",
        "\n",
        "**Beispiele Methoden:**\n",
        "1. write() : Angabe eines einfachen String\n",
        "2. writelines() : Angabe einem oder mehrerer Strings \n",
        "\n",
        "Möchte man ein einfaches Monitoring von Netzwerkgeräten über ein Python-Skript bauen, kann man diese Methoden nutzen, um Health-Informationen zu loggen.\n",
        "\n",
        "**Dabei gilt:**\n",
        "\n",
        "Ein Gerät wird dann als \"lebendig\" angesehen, wenn ein Ping-Request erfolgreich beantwortet wird.\n",
        "Um einen Ping-Request über Python zu verschicken muss das externe Modul **os** importiert werden.\n",
        "Über dieses Modul kann mit der Funktion system ein Komandozeilenbefehl wie z.B. **ping** abgesetzt werden. Bei einem Rückgabewert von **0**, war der Ping erfolgreich. \n",
        "\n",
        "Natürlich erwartet der Ping die Angabe einer IP-Adresse oder einer URL. Diese kann in unserem Beispiel vom Benutzer selbst eingegeben werden.\n",
        "Für unseren Log bauen wir dann einen String aus:\n",
        "\n",
        "***Datum + Uhrzeit + Status + IP***\n"
      ]
    },
    {
      "cell_type": "code",
      "execution_count": null,
      "metadata": {
        "id": "mOyo8itnnLP3"
      },
      "outputs": [],
      "source": [
        "import os\n",
        "response = os.system(\"ping 8.8.8.8\")"
      ]
    },
    {
      "cell_type": "markdown",
      "metadata": {
        "id": "xUc4rdNEm7m9"
      },
      "source": [
        "Um das Datum und die Uhrzeit nutzen auszulesen importieren von datetime das Modul datetime:"
      ]
    },
    {
      "cell_type": "code",
      "execution_count": null,
      "metadata": {
        "id": "cfwl9h_clyGe"
      },
      "outputs": [],
      "source": [
        "from datetime import datetime"
      ]
    },
    {
      "cell_type": "markdown",
      "metadata": {
        "id": "GdoQPQJ2l2g_"
      },
      "source": [
        "Über die Funktion today mit Subfunktion strftime kann über die Angabe des Formates die Zeit abgefragt werden:"
      ]
    },
    {
      "cell_type": "code",
      "execution_count": null,
      "metadata": {
        "id": "tTjOHJaKmF6X"
      },
      "outputs": [],
      "source": [
        "now = datetime.today().strftime('%Y-%m-%d-%H:%M:%S')"
      ]
    },
    {
      "cell_type": "markdown",
      "metadata": {
        "id": "fQFyIGNsmIjC"
      },
      "source": [
        "Dabei kann man folgendes Format angeben:"
      ]
    },
    {
      "cell_type": "code",
      "execution_count": null,
      "metadata": {
        "id": "F0x3POfmmedc"
      },
      "outputs": [],
      "source": [
        "from datetime import datetime\n",
        "\n",
        "now = datetime.now() # current date and time\n",
        "\n",
        "year = now.strftime(\"%Y\")\n",
        "print(\"year:\", year)\n",
        "\n",
        "month = now.strftime(\"%m\")\n",
        "print(\"month:\", month)\n",
        "\n",
        "day = now.strftime(\"%d\")\n",
        "print(\"day:\", day)\n",
        "\n",
        "time = now.strftime(\"%H:%M:%S\")\n",
        "print(\"time:\", time)\n",
        "\n",
        "date_time = now.strftime(\"%m/%d/%Y, %H:%M:%S\")\n",
        "print(\"date and time:\",date_time)"
      ]
    },
    {
      "cell_type": "markdown",
      "metadata": {
        "id": "4zmxAuDfmuIV"
      },
      "source": [
        "Siehe Lösung:"
      ]
    },
    {
      "cell_type": "code",
      "execution_count": null,
      "metadata": {
        "id": "w-MJHhJh-nop"
      },
      "outputs": [],
      "source": [
        "# Monitoring mit Log:\n",
        "\n",
        "import os\n",
        "from datetime import datetime\n",
        "hostname = input(\"Geben Sie eine IP oder eine URL an: \")\n",
        "response = os.system(\"ping \" + hostname)\n",
        "now = datetime.today().strftime('%Y-%m-%d-%H:%M:%S')\n",
        "\n",
        "#and then check the response...\n",
        "f = open(\"log.txt\", \"a\")\n",
        "if response == 0:\n",
        "    f.writelines(now + \" up \" + hostname + \"\\n\")\n",
        "else:\n",
        "    f.writelines(now + \" down \" + hostname + \"\\n\")\n",
        "f.close()"
      ]
    },
    {
      "cell_type": "markdown",
      "metadata": {
        "id": "eHWqR6KFw7MR"
      },
      "source": [
        "Natürlich können auch Methoden genutzt werden, die beim Auslesen einer Datei helfen.\n",
        "\n",
        "**Beispiele Methoden:**\n",
        "1. read() : Datei wird als einfacher String gelesen (Gut für Regex)\n",
        "2. readline() : Liest die Datei Zeile für Zeile\n",
        "\n",
        "Möchte man Zeile für Zeile innerhalb einer Textdatei kontrollieren, bietet es sich an mit einer **for-Schleife** über die geöffnete datei zu iterieren. Dabei kann man direkt Zeile für Zeile ausgeben (siehe Beispiel).\n",
        "\n",
        "Mit der Methode strip() können in einem String alle Steuerzeichen (wie z.B. \\n) gelöscht werden.\n"
      ]
    },
    {
      "cell_type": "code",
      "execution_count": null,
      "metadata": {
        "id": "xS6xOwbCx1uI"
      },
      "outputs": [],
      "source": [
        "# Lesen einer Datei Beispiel\n",
        "\n",
        "f = open(\"read.txt\", \"r\")\n",
        "ip = input(\"Geben Sie die IP des Gerätees an, welches sie prüfen wollen: \")\n",
        "for line in f:\n",
        "    stripline = line.strip()\n",
        "    reslist = stripline.split(\" \")\n",
        "    if reslist[1] == \"down\" and ip == reslist[2]:\n",
        "        print(reslist[2] + \" war am \" + reslist[0] + \" das 1. mal down!\")\n",
        "        break\n"
      ]
    },
    {
      "cell_type": "markdown",
      "metadata": {
        "id": "muUxnz5Wp4IG"
      },
      "source": [
        "# Überprüfen einer IP bzw. URL (Optional)\n",
        "\n",
        "Das folgende Programm überprüft eine Eingabe darauf, ob es sich um eine gültige IP-Adresse oder URL handelt. \n",
        "* Zur Überprüfung auf korrekte IP wird der String am Punkt getrennt. Dann wird überprüft, ob es vier Oktette sind und diese nur die Zahlen von 0 bis 255 enthalten.\n",
        "* Zur Überprüfung auf korrekte URL wird ein Modul verwendet, dass versucht den String als URL zu parsen. \n",
        "\n"
      ]
    },
    {
      "cell_type": "code",
      "execution_count": null,
      "metadata": {
        "id": "ClsxhKzQAFdB"
      },
      "outputs": [],
      "source": [
        "\n",
        "import os\n",
        "from datetime import datetime\n",
        "from urllib.parse import urlparse\n",
        "\n",
        "def validIP(ip):\n",
        "    try:\n",
        "        oktettlist = ip.split('.')\n",
        "        if len(oktettlist) > 4 or len(oktettlist) < 4:\n",
        "            return False\n",
        "        else:\n",
        "            for oktett in oktettlist:\n",
        "                if int(oktett) < 0 or int(oktett) > 255:\n",
        "                    return False\n",
        "        print('Gültige IP angegeben.')\n",
        "        return True\n",
        "    except Exception:\n",
        "        return False\n",
        "\n",
        "def isurl(url):\n",
        "    try:\n",
        "        result = urlparse(url)\n",
        "        print(result)\n",
        "        print(result.netloc)\n",
        "        return all([result.scheme, result.netloc])\n",
        "    except ValueError:\n",
        "        return False\n",
        "\n",
        "hostname = input(\"Geben Sie eine IP oder eine URL an: \")\n",
        "validurl = isurl(hostname)\n",
        "validip = validIP(hostname)\n",
        "if validurl or validip:\n",
        "    response = os.system(\"ping \" + hostname)\n",
        "    now = datetime.today().strftime('%Y-%m-%d-%H:%M:%S')\n",
        "\n",
        "    f = open(\"log.txt\", \"a\")\n",
        "    if response == 0:\n",
        "        f.writelines(now + \" up\\n\")\n",
        "    else:\n",
        "        f.writelines(now + \" down\\n\")\n",
        "    f.close()\n",
        "else:\n",
        "    print(\"Falsche Angabe!\")\n"
      ]
    }
  ],
  "metadata": {
    "colab": {
      "collapsed_sections": [],
      "name": "Grundlagen-Python.ipynb",
      "provenance": []
    },
    "kernelspec": {
      "display_name": "Python 3",
      "name": "python3"
    },
    "language_info": {
      "name": "python"
    }
  },
  "nbformat": 4,
  "nbformat_minor": 0
}
