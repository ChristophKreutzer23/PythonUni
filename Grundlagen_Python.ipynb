{
  "nbformat": 4,
  "nbformat_minor": 0,
  "metadata": {
    "colab": {
      "name": "Grundlagen-Python.ipynb",
      "provenance": [],
      "collapsed_sections": []
    },
    "kernelspec": {
      "name": "python3",
      "display_name": "Python 3"
    },
    "language_info": {
      "name": "python"
    }
  },
  "cells": [
    {
      "cell_type": "markdown",
      "metadata": {
        "id": "kg8_e2O_o5BO"
      },
      "source": [
        "# **Hello World**\n",
        "\n",
        "Mit dem Kommando **print** können Strings innerhalb der Konsole ausgegeben werden:"
      ]
    },
    {
      "cell_type": "code",
      "metadata": {
        "colab": {
          "base_uri": "https://localhost:8080/"
        },
        "id": "OoaLiHgspBqV",
        "outputId": "fbb7ef40-a235-424f-ffed-2b3ac1a6fb04"
      },
      "source": [
        "print(\"hello World\")"
      ],
      "execution_count": null,
      "outputs": [
        {
          "output_type": "stream",
          "text": [
            "hello World\n"
          ],
          "name": "stdout"
        }
      ]
    },
    {
      "cell_type": "markdown",
      "metadata": {
        "id": "UlypWPippGFc"
      },
      "source": [
        "## Hello World Erweiterung (Benutzereingabe)\n",
        "\n",
        "Mitdem Kommando **input** können Strings vom Benutzer eingeselen werden. \n",
        "Die eingabe muss anschließend in einer Variable zwischengespeichert werden.\n",
        "Da es in Python keine explizieten Datentypen gibt, legt man jede Variable ohne Angabe des Typs an.\n",
        "\n",
        "Bei der Ausgabe kann diese Variable verwenden werden. Möchte man vorher oder nachher noch einen Standard-Text ausgeben kann dieser \n",
        "mittels **+** mit der Variable kombiniert werden:"
      ]
    },
    {
      "cell_type": "code",
      "metadata": {
        "colab": {
          "base_uri": "https://localhost:8080/"
        },
        "id": "W7Mhk0SbpJdM",
        "outputId": "2e0ca1c5-8915-4b3a-de8a-efc46429679b"
      },
      "source": [
        "eingabe = input(\"Bitte gib deinen Namen ein: \")\n",
        "print(\"Hello \" + eingabe)"
      ],
      "execution_count": null,
      "outputs": [
        {
          "output_type": "stream",
          "text": [
            "Bitte gib deinen Namen ein: Yoda\n",
            "Hello Yoda\n"
          ],
          "name": "stdout"
        }
      ]
    },
    {
      "cell_type": "markdown",
      "metadata": {
        "id": "42T7rQRBpNXW"
      },
      "source": [
        "# **Datentypen**\n",
        "\n",
        "In Python nutzt man zwar keine expliziet keine Datentypen, trotzdem werden Variablien innerhalb von Python typisiert.\n",
        "Damit man herausfinden kann, zu welchem Datentyp eine Variable gehört, besitzt Python die Funktion **type()**:"
      ]
    },
    {
      "cell_type": "code",
      "metadata": {
        "colab": {
          "base_uri": "https://localhost:8080/"
        },
        "id": "g9dM-bRTpRBH",
        "outputId": "60701714-4fa7-433a-f1da-1a1c5f02e5a1"
      },
      "source": [
        "x = 3\n",
        "y = \"hallo\"\n",
        "z = 1234.54464578\n",
        "\n",
        "print(type(x))\n",
        "print(type(y))\n",
        "print(type(z))"
      ],
      "execution_count": null,
      "outputs": [
        {
          "output_type": "stream",
          "text": [
            "<class 'int'>\n",
            "<class 'str'>\n",
            "<class 'float'>\n"
          ],
          "name": "stdout"
        }
      ]
    },
    {
      "cell_type": "markdown",
      "metadata": {
        "id": "ZnFfXzg8pTrn"
      },
      "source": [
        "## Dynamische Variablen\n",
        "\n",
        "Das schöne an Python ist also, dass wir uns nicht selbst um die Typisierung kümmern müssen. \n",
        "Aber dies ist Fluch und Segen zugleich, denn die Datentypen einer Variablen in Python sind dynamisch anpassbar.\n",
        "Das bedeutet, speichert man in einer Variable einen String und im nächsten Moment einen Integer-Wert, ändert sich \n",
        "auch der Datentyp der Variable. Dies kann zu unerwarteten Fehlern führen:"
      ]
    },
    {
      "cell_type": "code",
      "metadata": {
        "colab": {
          "base_uri": "https://localhost:8080/"
        },
        "id": "IPvyfkFdpXHP",
        "outputId": "e1ee44d5-7255-4eae-ab8c-687579fa398f"
      },
      "source": [
        "x = \"hallo\"\n",
        "print(type(x))\n",
        "x = 3\n",
        "print(type(x))"
      ],
      "execution_count": null,
      "outputs": [
        {
          "output_type": "stream",
          "text": [
            "<class 'str'>\n",
            "<class 'int'>\n"
          ],
          "name": "stdout"
        }
      ]
    },
    {
      "cell_type": "markdown",
      "metadata": {
        "id": "HXEhV4RMpace"
      },
      "source": [
        "## Datentypen beim Einlesen von Werten\n",
        "\n",
        "Grunsätzlich gilt. Das Werte die über den **input** eingelesen werden immer als String eingelesen werden.\n",
        "Möchte man innerhalb eines Taschenrechners zwei Werte miteinander addieren, kommt es daher zu folgenden Problem:"
      ]
    },
    {
      "cell_type": "code",
      "metadata": {
        "colab": {
          "base_uri": "https://localhost:8080/"
        },
        "id": "JAiSIO2rpdC-",
        "outputId": "02dbd8e1-59e4-45e3-b403-98e484ae9d16"
      },
      "source": [
        "a = input(\"Wert a: \")\n",
        "b = input(\"Wert b: \")\n",
        "print(\"Wert a lautet: \" + a)\n",
        "print(\"Wert b lautet: \" + b)\n",
        "print(\"a + b = \" + a+b)1"
      ],
      "execution_count": null,
      "outputs": [
        {
          "output_type": "stream",
          "text": [
            "Wert a: 5\n",
            "Wert b: 10\n",
            "Wert a lautet: 5\n",
            "Wert b lautet: 10\n",
            "a + b = 510\n"
          ],
          "name": "stdout"
        }
      ]
    },
    {
      "cell_type": "markdown",
      "metadata": {
        "id": "C9LkE45ApiJO"
      },
      "source": [
        "# **Cast von Datentypen**\n",
        "\n",
        "Da Wert a und Wert b von Python als String eingelesen wurden, werden die Werte beim Addieren einfach hintereinander gehängt.\n",
        "Um das Problem zu lösen, müssen wir Python während des Einlesens sagen, dass diese Werte als **Integer** definiert werden sollen.\n",
        "Dies können wir mit der cast-Funktion **int()** erledigen: "
      ]
    },
    {
      "cell_type": "code",
      "metadata": {
        "colab": {
          "base_uri": "https://localhost:8080/"
        },
        "id": "6DCvWG5tpmYW",
        "outputId": "0b8055a0-5cb2-4bfd-a71d-039d1918b2d8"
      },
      "source": [
        "a = int(input(\"Wert a: \"))\n",
        "b = int(input(\"Wert b: \"))\n",
        "print(\"Wert a lautet: \" + str(a))\n",
        "print(\"Wert b lautet: \" + str(b))\n",
        "print(\"a + b = \" + str(a+b))"
      ],
      "execution_count": null,
      "outputs": [
        {
          "output_type": "stream",
          "name": "stdout",
          "text": [
            "Wert a: 10\n",
            "Wert b: 5\n",
            "Wert a lautet: 10\n",
            "Wert b lautet: 5\n",
            "a + b = 15\n"
          ]
        }
      ]
    },
    {
      "cell_type": "markdown",
      "metadata": {
        "id": "UitkG0wNpqww"
      },
      "source": [
        "Wie man oben sieht, hat unser Progamm während der Laufzeit einen TypeError erkannt.\n",
        "Durch den Cast von **String** zu **Integer**, sind die Variablen **a** und **b** nun vom Typ\n",
        "**Integer**. Eine Ausgabe mit **print** kann jedoch lediglich Strings ausgeben.\n",
        "Dies bedeutet wir müssen während der Ausgabe die Variablen **a** und **b** wieder zu einem String casten.\n",
        "Auch hierfür gibt es eine Funktion: **str()**: "
      ]
    },
    {
      "cell_type": "code",
      "metadata": {
        "colab": {
          "base_uri": "https://localhost:8080/"
        },
        "id": "2cs1_lK7ptFB",
        "outputId": "fadbee32-f7b7-45ac-ba2c-b8fde6d4408b"
      },
      "source": [
        "a = int(input(\"Wert a: \"))\n",
        "b = int(input(\"Wert b: \"))\n",
        "print(\"Wert a lautet: \" + str(a))\n",
        "print(\"Wert b lautet: \" + str(b))\n",
        "print(\"a + b = \" + str(a+b))"
      ],
      "execution_count": null,
      "outputs": [
        {
          "output_type": "stream",
          "text": [
            "Wert a: 5\n",
            "Wert b: 10\n",
            "Wert a lautet: 5\n",
            "Wert b lautet: 10\n",
            "a + b = 15\n"
          ],
          "name": "stdout"
        }
      ]
    },
    {
      "cell_type": "markdown",
      "metadata": {
        "id": "zJRzBFJKpzix"
      },
      "source": [
        "## Temporärer Cast\n",
        "\n",
        "Nun stimmt das Ergebnis...\n",
        "\n",
        "Da es sich beim Casten von **Integer** zu **String** um KEINE Wertzuweisung handelt, ist der Cast nur temporär.\n",
        "Das bedeutet die Variablen **a** und **b** behalten den Datentyp **Integer**:"
      ]
    },
    {
      "cell_type": "code",
      "metadata": {
        "colab": {
          "base_uri": "https://localhost:8080/"
        },
        "id": "PIzk-cSPp3J0",
        "outputId": "4f0858dd-ec31-4276-9198-c9f52deb46a6"
      },
      "source": [
        "a = int(input(\"Wert a: \"))\n",
        "b = int(input(\"Wert b: \"))\n",
        "print(\"Wert a lautet: \" + str(a))\n",
        "print(\"Wert b lautet: \" + str(b))\n",
        "print(\"a + b = \" + str(a+b))\n",
        "print(type(a))\n",
        "print(type(b))"
      ],
      "execution_count": null,
      "outputs": [
        {
          "output_type": "stream",
          "text": [
            "Wert a: 5\n",
            "Wert b: 10\n",
            "Wert a lautet: 5\n",
            "Wert b lautet: 10\n",
            "a + b = 15\n",
            "<class 'int'>\n",
            "<class 'int'>\n"
          ],
          "name": "stdout"
        }
      ]
    },
    {
      "cell_type": "markdown",
      "metadata": {
        "id": "IZ4GBF1d7l7L"
      },
      "source": [
        "##**Listen**\n",
        "\n",
        "\n",
        "In Python existiert auch die Möglichkeit **Listen** anzulegen:"
      ]
    },
    {
      "cell_type": "code",
      "metadata": {
        "colab": {
          "base_uri": "https://localhost:8080/"
        },
        "id": "jq7l7KXv7wNN",
        "outputId": "0c4c6c87-6e8c-465f-f7f4-32eb0aa8bb9e"
      },
      "source": [
        "a = [1,2,3,4,5,6,7,8,9]\n",
        "print(a[1])"
      ],
      "execution_count": null,
      "outputs": [
        {
          "output_type": "stream",
          "text": [
            "2\n"
          ],
          "name": "stdout"
        }
      ]
    },
    {
      "cell_type": "markdown",
      "metadata": {
        "id": "EKg0btLo75xO"
      },
      "source": [
        "Das schöne an **Listen** in Python ist, man kann dieses direkt ausgeben lassen, ohne mit einer Schleife über die Speicherstelle zu iterieren:"
      ]
    },
    {
      "cell_type": "code",
      "metadata": {
        "colab": {
          "base_uri": "https://localhost:8080/"
        },
        "id": "Ul0LVFA28Jju",
        "outputId": "e26dc500-ecba-49a4-e1e9-c30a21022a1c"
      },
      "source": [
        "a = [1,2,3,4,5,6,7,8,9]\n",
        "print(a)"
      ],
      "execution_count": null,
      "outputs": [
        {
          "output_type": "stream",
          "text": [
            "[1, 2, 3, 4, 5, 6, 7, 8, 9]\n"
          ],
          "name": "stdout"
        }
      ]
    },
    {
      "cell_type": "markdown",
      "metadata": {
        "id": "Vii2HU_g8QOP"
      },
      "source": [
        "Im Gegensatz zu anderen Programmiersprachen, müssen die Stellen im Array nicht vom gleichen Datentyp sein. **Strings, Integer, Float ...** lassen sich mischen:\n"
      ]
    },
    {
      "cell_type": "code",
      "metadata": {
        "colab": {
          "base_uri": "https://localhost:8080/"
        },
        "id": "XTUdwsft8jPh",
        "outputId": "9db66886-4bd3-4b2e-a7f0-8c574129028a"
      },
      "source": [
        "a = [1,2,3,4,\"hallo\",6,7,44.6789,9]\n",
        "print(a)"
      ],
      "execution_count": null,
      "outputs": [
        {
          "output_type": "stream",
          "text": [
            "[1, 2, 3, 4, 'hallo', 6, 7, 44.6789, 9]\n"
          ],
          "name": "stdout"
        }
      ]
    },
    {
      "cell_type": "markdown",
      "source": [
        "# **Dictionaries**\n",
        "\n",
        "Dictionaries werden verwendet, um Daten in key:value Paaren zu speichern. In anderen Programmiersprachen werden solche Konstrukte oft als Map bezeichnet. "
      ],
      "metadata": {
        "id": "8OyIXkvZB_Nv"
      }
    },
    {
      "cell_type": "code",
      "source": [
        "dictionary = {\n",
        "    'elementA': 1,\n",
        "    'elementB': True,\n",
        "    'elementC': 'test'\n",
        "}\n",
        "\n",
        "print(dictionary)\n",
        "\n",
        "print(dictionary['elementA'])\n",
        "\n",
        "dictionary['elementA'] = 'test2'\n",
        "\n",
        "print(dictionary)"
      ],
      "metadata": {
        "colab": {
          "base_uri": "https://localhost:8080/"
        },
        "id": "z0hXkeQJnlaK",
        "outputId": "5b5c2b43-0abd-4b6a-a67a-95c1dcb7530b"
      },
      "execution_count": null,
      "outputs": [
        {
          "output_type": "stream",
          "name": "stdout",
          "text": [
            "{'elementA': 1, 'elementB': True, 'elementC': 'test'}\n",
            "1\n",
            "{'elementA': 'test2', 'elementB': True, 'elementC': 'test'}\n"
          ]
        }
      ]
    },
    {
      "cell_type": "markdown",
      "source": [
        "Dictionaries werden mit geschweiften Klammern erstellt, zwischen denen die **keys** mit ihren **values** angegeben werden. Dabei werden für die keys normalerweise strings verwendet, während die values jeden beliebigen Datentyp haben können. Mit den eckigen Klammern kann auf einen Wert zugegriffen oder dieser verändert werden."
      ],
      "metadata": {
        "id": "7dL4bVRzoQj_"
      }
    },
    {
      "cell_type": "markdown",
      "metadata": {
        "id": "jv8K1SNNrmAw"
      },
      "source": [
        "# **Kontrollstrukturen / Anweisungen**\n",
        "\n",
        "Natürlich existieren auch innerhalb von Python die Anweisungsmechanismen **if**, **else if** und **else**. Dabei ist folgenden Syntax zu beachten:\n",
        "\n",
        "1. in Python nutzt man für else **if --> elif,** für **if --> if** und für **else --> else** .\n",
        "2. Kontrolstrukturen verzichten auf runde Klammern **\"()\"** .\n",
        "3. Hinter jede Kontrollstruktur muss ein **\":\"** .\n",
        "\n",
        "Beispiel:\n"
      ]
    },
    {
      "cell_type": "code",
      "metadata": {
        "colab": {
          "base_uri": "https://localhost:8080/"
        },
        "id": "1HIiCOngsG1s",
        "outputId": "97ff761e-17d8-4f3d-f5fb-637c2fb3c278"
      },
      "source": [
        "x = int(input(\"Bitte Zahl eingeben: \"))\n",
        "if x > 100:\n",
        "  print(\"x ist sehr groß\")\n",
        "elif x > 10:\n",
        "  print(\"x ist groß\")\n",
        "else:\n",
        "  print(\"x ist klein\")"
      ],
      "execution_count": null,
      "outputs": [
        {
          "output_type": "stream",
          "text": [
            "Bitte Zahl eingeben: 70\n",
            "x ist groß\n"
          ],
          "name": "stdout"
        }
      ]
    },
    {
      "cell_type": "markdown",
      "metadata": {
        "id": "9DEIIFJ4t3oG"
      },
      "source": [
        "## Switch Case\n",
        "Pythonn besitzt ab Version 3.10 ein **Match Case Statement**, welches sehr ähnlich wie Switch Case arbeitet. \n",
        "\n",
        "Da es jedoch in älteren Versionen von Python kein **switch Statement** gibt, müssen wir uns anderer Strategien bedienen. Eine davon ist ein Dictionary zu verwenden, wie hier gezeigt.\n",
        "Vereinfachte **Switch-Case** Funktionalität mit Dictionary. In diesem Fall benötigen wir dan nauch die geschweiften Klammern:\n",
        "\n"
      ]
    },
    {
      "cell_type": "code",
      "metadata": {
        "colab": {
          "base_uri": "https://localhost:8080/",
          "height": 53
        },
        "id": "L85OyBoO49_S",
        "outputId": "0be33e46-aaf4-487e-f5cb-36d2fee0146a"
      },
      "source": [
        "\n",
        "switcher={\n",
        "  0:'Sunday',\n",
        "  1:'Monday',\n",
        "  2:'Tuesday',\n",
        "  3:'Wednesday',\n",
        "  4:'Thursday',\n",
        "  5:'Friday',\n",
        "  6:'Saturday'\n",
        "}\n",
        "i = int(input(\"Zahl zwischen 1 und 6 eingeben: \"))\n",
        "switcher.get(i,\"Invalid day of week\")"
      ],
      "execution_count": null,
      "outputs": [
        {
          "name": "stdout",
          "output_type": "stream",
          "text": [
            "Zahl zwischen 1 und 6 eingeben: 7\n"
          ]
        },
        {
          "output_type": "execute_result",
          "data": {
            "text/plain": [
              "'Invalid day of week'"
            ],
            "application/vnd.google.colaboratory.intrinsic+json": {
              "type": "string"
            }
          },
          "metadata": {},
          "execution_count": 2
        }
      ]
    },
    {
      "cell_type": "markdown",
      "metadata": {
        "id": "zfLM3Py3L70Z"
      },
      "source": [
        "# **Schleifen**\n",
        "\n",
        "In Python können die folgenden Schleifen genutzt werden: **for** und **while**.\n"
      ]
    },
    {
      "cell_type": "markdown",
      "metadata": {
        "id": "JttAzlSDCT42"
      },
      "source": [
        "# for-Schleife\n",
        "Anders als in den meisten anderen Programmiersprachen ist die for-Schleife in Python keine zählergesteuerte, sondern eine **mengengesteuerte** Schleife. Sie entspricht damit eher einer foreach Schleife in Programmiersprachen wie Java oder C#. \n",
        "\n",
        "Mithilfe der for-Schleife werden alle Elemente einer Menge (hier z.B. einer Liste) durchlaufen."
      ]
    },
    {
      "cell_type": "code",
      "metadata": {
        "colab": {
          "base_uri": "https://localhost:8080/"
        },
        "outputId": "526ad357-6abb-430b-9087-93aee1d907ca",
        "id": "qSgKptZQCT42"
      },
      "source": [
        "fruits = [\"apple\", \"banana\", \"cherry\"]\n",
        "for x in fruits:\n",
        "  print(x)"
      ],
      "execution_count": null,
      "outputs": [
        {
          "output_type": "stream",
          "text": [
            "apple\n",
            "banana\n",
            "cherry\n"
          ],
          "name": "stdout"
        }
      ]
    },
    {
      "cell_type": "markdown",
      "source": [
        "Die in Python eingebaute Funktion range(*start*, *stop*, *step*) liefert eine Sequenz von Zahlen zurück, die mit *start* beginnen, vor *stop* aufhören und immer um *step* erhöht werden. Wird *start* weggelassen, wird standardmäßig die 0 als Wert angenommen, wird *step* weggelassen, wird der Wert immer um 1 erhöht.\n",
        "\n",
        "Auf diese Weise kann eine Zählschleife simuliert werden:"
      ],
      "metadata": {
        "id": "QMb_IwOK_1c7"
      }
    },
    {
      "cell_type": "code",
      "source": [
        "for i in range(10):\n",
        "  print(i)"
      ],
      "metadata": {
        "id": "Oxuj1AxACauY",
        "colab": {
          "base_uri": "https://localhost:8080/"
        },
        "outputId": "901b67e1-a847-4f29-caae-2761734934bd"
      },
      "execution_count": null,
      "outputs": [
        {
          "output_type": "stream",
          "name": "stdout",
          "text": [
            "0\n",
            "1\n",
            "2\n",
            "3\n",
            "4\n",
            "5\n",
            "6\n",
            "7\n",
            "8\n",
            "9\n"
          ]
        }
      ]
    },
    {
      "cell_type": "markdown",
      "metadata": {
        "id": "erhY0lvNQ8MY"
      },
      "source": [
        "# while-Schleife\n",
        "Eine while-Schleife ist eine Kopfgesteuert Schleife, welche anhand von Bedingungen beenndet wird. Diese Schleife wird gennutzt, wenn die Anzahl der Schleifendurchläufe erst zur Laufzeit entschieden wird:  "
      ]
    },
    {
      "cell_type": "code",
      "metadata": {
        "colab": {
          "base_uri": "https://localhost:8080/"
        },
        "id": "cSyqgJL6RBcO",
        "outputId": "4972daf3-b3c0-4d80-a85b-c23cac231181"
      },
      "source": [
        "i = input()\n",
        "while i != \"ende\":\n",
        "  i = input()"
      ],
      "execution_count": null,
      "outputs": [
        {
          "name": "stdout",
          "output_type": "stream",
          "text": [
            "test\n",
            "kekse\n",
            "1\n",
            "2\n",
            "ende\n"
          ]
        }
      ]
    },
    {
      "cell_type": "markdown",
      "source": [
        "Eine Besonderheit in Python ist, dass man auch bei Schleifen einen **else** Block angeben kann. Dieser wird ausgeführt, sobald die Bedingung nicht mehr wahr ist.\n",
        "\n",
        "Durch ein **break** kann die Schleife im aktuellen Schleifendurchlauf unterbrochen werden, in diesem Fall wird der else Block nicht ausgeführt:"
      ],
      "metadata": {
        "id": "AE6oGSo5APSC"
      }
    },
    {
      "cell_type": "code",
      "source": [
        "print(\"Passwort:\")\n",
        "p = input()\n",
        "i = 0\n",
        "while p != \"sicherespw\":\n",
        "  print(\"Passwort:\")\n",
        "  p = input()\n",
        "  i += 1\n",
        "  if i == 3:\n",
        "    print(\"Zu viele Versuche!\")\n",
        "    break\n",
        "else:\n",
        "  print(\"Passwort richtig!\")\n"
      ],
      "metadata": {
        "colab": {
          "base_uri": "https://localhost:8080/"
        },
        "id": "zMlCWeyGAeTM",
        "outputId": "cf514431-23f2-4dcf-b34b-afd6ae432e3b"
      },
      "execution_count": null,
      "outputs": [
        {
          "output_type": "stream",
          "name": "stdout",
          "text": [
            "Passwort:\n",
            "sicherespw\n",
            "Passwort richtig!\n"
          ]
        }
      ]
    },
    {
      "cell_type": "markdown",
      "source": [
        "# **Dateihandling**\n",
        "\n",
        "Das Arbeiten mit Dateien ist mit den eingebauten Funktionen in Python sehr einfach möglich. Um eine Datei zu bearbeiten/auszulesen, muss diese geöffnet werden."
      ],
      "metadata": {
        "id": "dWoLvmg7pE9X"
      }
    },
    {
      "cell_type": "code",
      "source": [
        "datei = open('test-datei.txt', 'r+')\n",
        "\n",
        "for zeile in datei:\n",
        "  print(zeile)\n",
        "\n",
        "datei.close()"
      ],
      "metadata": {
        "colab": {
          "base_uri": "https://localhost:8080/"
        },
        "id": "-XBd6MxwpWFt",
        "outputId": "42e16324-6042-4c17-c14d-e262d38af069"
      },
      "execution_count": null,
      "outputs": [
        {
          "output_type": "stream",
          "name": "stdout",
          "text": [
            "Dies ist eine\n",
            "\n",
            "Test Datei\n"
          ]
        }
      ]
    },
    {
      "cell_type": "markdown",
      "source": [
        "Hier wird die **test-datei.txt** zum lesen geöffnet. Die **open** Funktion erhält den Pfad zur Datei als ersten Parameter und der Modus, in dem die Datei geöffnet werden soll als zweiten Parameter. In der folgenden Tabelle findet man die gängisten Parameter für Textdateien.\n",
        "\n",
        "|Parameter|Modus|\n",
        "|----|----|\n",
        "| r |*read* - öffnet die Datei zum lesen.|\n",
        "| w |*write* - öffnet die Datei zum schreiben, der Inhalt der Datei wird gelöscht.|\n",
        "| a |*append* - öffnet die Datei zum schreiben, der neue Inhalt wird angehangen.|\n",
        "| r+ |*read/write* - öffnet die Datei zum lesen und schreiben.|"
      ],
      "metadata": {
        "id": "CpMe9KmRpulP"
      }
    },
    {
      "cell_type": "markdown",
      "source": [
        "# **Module laden**\n",
        "\n",
        "Neben den vielen integrierten Funktionen von Python gibt es für viele Anwendungsfälle externe **Module**, die die Funktionalität bereitstellen. Diese Module können über das *import* Schlüsselwort eingebunden werden. Im folgenden Beispiel wirdd das Modul sys importiert. Mit diesem Modul hat man die Möglichkeit über Python auf system spezifische Strukturen zurückzugreifen."
      ],
      "metadata": {
        "id": "2R1oz0xSswhC"
      }
    },
    {
      "cell_type": "code",
      "source": [
        "import sys\n",
        "\n",
        "print(sys.path)"
      ],
      "metadata": {
        "colab": {
          "base_uri": "https://localhost:8080/"
        },
        "id": "pSVkZCUctF36",
        "outputId": "5731e80e-898f-4956-fbf2-b3cdc744ce24"
      },
      "execution_count": null,
      "outputs": [
        {
          "output_type": "stream",
          "name": "stdout",
          "text": [
            "['', '/content', '/env/python', '/usr/lib/python37.zip', '/usr/lib/python3.7', '/usr/lib/python3.7/lib-dynload', '/usr/local/lib/python3.7/dist-packages', '/usr/lib/python3/dist-packages', '/usr/local/lib/python3.7/dist-packages/IPython/extensions', '/root/.ipython']\n"
          ]
        }
      ]
    },
    {
      "cell_type": "markdown",
      "metadata": {
        "id": "d3lfWxhZMPRE"
      },
      "source": [
        "\n",
        "- Module erstellen\n",
        "- Strings:\n",
        "  - multiline\n",
        "  - slicing\n",
        "  - loop\n",
        "  - \"substring\" test ('bla' in s)\n",
        "  - format strings\n",
        "- logische verknüpfungen\n",
        "- operatoren\n",
        "- tuples\n",
        " - multiple return values\n",
        " - unpacking\n",
        "- functions\n",
        " - lambda????\n",
        "- Klassen\n",
        " - Methoden\n",
        " - Konstruktor\n",
        " - Vererbung\n",
        "- Scope: global vs. local"
      ]
    },
    {
      "cell_type": "markdown",
      "source": [
        "# Projekte"
      ],
      "metadata": {
        "id": "aylFi0qCG_sI"
      }
    },
    {
      "cell_type": "markdown",
      "source": [
        "# Methoden und externe Module verwenden (Beispiel Passwort erstellen)"
      ],
      "metadata": {
        "id": "zwstcAoH8sLk"
      }
    },
    {
      "cell_type": "markdown",
      "source": [
        "Wie viele andere Programmiersprachen bieten die vorgefertigten Datentypen in Python Methoden an.\n",
        "\n",
        "Im folgenden soll ein Programm erstellt werden, dass ein eingegebenes Passwort qualitativ überprüft. Es sollen folgende Regeln berücksichtigt werden.\n",
        "\n",
        "Das Passwort soll:\n",
        "*   mindestens 8 Zeichen lang sein. \n",
        "*   mindestens eine Zahl enthalten.\n",
        "*   aus Groß- und Kleinbuchstaben bestehen.\n",
        "*   mindestens ein Sonderzeichen enthalten.\n",
        "\n",
        "Der Typ *str* bietet Methoden an, um zu überprüfen, ob alle Zeichen in einem String eine bestimmte Eigenschaft erfüllen:\n",
        "\n",
        "*   isupper() - überprüft, ob alle Zeichen eines strings Großbuchstaben sind\n",
        "*   islower() - überprüft, ob alle Zeichen eines strings Kleinbuchstaben sind\n",
        "*   isdigit() - überprüft, ob alle Zeichen eines strings Ziffern sind\n",
        "*   isalnum() - überprüft, ob alle Zeichen eines strings Buchstaben oder Ziffern sind"
      ],
      "metadata": {
        "id": "hrbAXwSFzeBc"
      }
    },
    {
      "cell_type": "code",
      "source": [
        "print(\"Ihr Passwort soll mindestens 8 Zeichen lang sein.\")\n",
        "print(\"Ihr Passwort soll mindestens eine Zahl beinhalten.\")\n",
        "print(\"Ihr Passwort soll aus Groß und Kleinbuchstaben bestehen.\")\n",
        "print(\"Ihr Passwort soll aus mindestens einem Sonderzeichen bestehen.\")\n",
        "pw = input(\"Geben Sie ein Passwort ein: \")\n",
        "\n",
        "upper = False\n",
        "lower = False\n",
        "number = False\n",
        "length = False\n",
        "special = False\n",
        "msg = \"\"\n",
        "if len(pw) >= 8:\n",
        "  length = True\n",
        "  for letter in pw:\n",
        "    if letter.isupper():\n",
        "      upper = True\n",
        "    elif letter.islower():\n",
        "      lower = True\n",
        "    elif letter.isdigit():\n",
        "      number = True\n",
        "    elif not letter.isalnum():\n",
        "      special = True\n",
        "  if not upper:\n",
        "    msg = \"ERROR: Passwort muss mindestens einen großen Buchstaben besitzen!\"\n",
        "  elif not lower:\n",
        "    msg =\"ERROR: Passwort muss mindestens einen kleinen Buchstaben besitzen!\"\n",
        "  elif not number:\n",
        "    msg = \"ERROR: Passwort muss mindestens eine Zahl besitzen!\"\n",
        "  elif not special:\n",
        "    msg = \"ERROR: Passwort muss mindestens ein Sonderzeichen besitzen!\"\n",
        "  else:\n",
        "    msg = \"Passwort wurde angelegt!\"\n",
        "else:\n",
        "  msg = \"ERROR: Passwort zu kurz\"\n",
        "\n",
        "print(msg)\n"
      ],
      "metadata": {
        "colab": {
          "base_uri": "https://localhost:8080/"
        },
        "id": "-4INEVmW5rRB",
        "outputId": "b7d61be6-02d3-4479-e966-2db1113bd699"
      },
      "execution_count": null,
      "outputs": [
        {
          "output_type": "stream",
          "name": "stdout",
          "text": [
            "Ihr Passwort soll mindestens 8 Zeichen lang sein.\n",
            "Ihr Passwort soll mindestens eine Zahl beinhalten.\n",
            "Ihr Passwort soll aus Groß und Kleinbuchstaben bestehen.\n",
            "Geben Sie ein Passwort ein: Kekse12345%\n",
            "Passwort wurde angelegt!\n"
          ]
        }
      ]
    },
    {
      "cell_type": "markdown",
      "source": [
        "# Passwort automatisch generieren"
      ],
      "metadata": {
        "id": "OoMdkyUc-DeS"
      }
    },
    {
      "cell_type": "markdown",
      "source": [
        "Im nächsten Schritt soll ein Passwort selbst zufällig erstellt werden.\n",
        "\n",
        "Dazu kann die Funktion randint des externen Moduls random genutzt werden. Diese erhält als Parameter die beiden Grenzen (inklusive) und liefert dann einen zufälligen Wert zurück.\n",
        "\n",
        "Dazu kann die Funktion choice des externen Moduls Random genutzt werden. Dieses erhält als Parameter eine Liste und liefert dann ein zufälliges Elemennt der Liste zurück.\n",
        "\n",
        "Dieser kann dann verwendet werden, um aus einer Liste ein zufälliges Zeichen auszuwählen."
      ],
      "metadata": {
        "id": "ZVMI5Msm_aCp"
      }
    },
    {
      "cell_type": "code",
      "source": [
        "\n",
        "charlist = ['0', '1', '2', '3', '4', '5', '6', '7', '8', '9', \n",
        "            'a', 'b', 'c', 'd', 'e', 'f', 'g', 'h', 'i', 'j', 'k', 'l', 'm', 'n', 'o', 'p', 'q', 'r', 's', 't', 'u', 'v', 'w', 'x', 'y', 'z',\n",
        "            'A', 'B', 'C', 'D', 'E', 'F', 'G', 'H', 'I', 'J', 'K', 'L', 'M', 'N', 'O', 'P', 'Q', 'R', 'S', 'T', 'U', 'V', 'W', 'X', 'Y', 'Z',\n",
        "            '%','&','-','!','?','$','=','§']\n",
        "\n",
        "l = input(\"Geben Sie die Länge des Passwortes ein: \")\n",
        "\n",
        "pw = \"\"\n",
        "for c in range(int(l)):\n",
        "  element = random.choice(charlist)\n",
        "  pw = pw + element\n",
        "\n",
        "print(pw)"
      ],
      "metadata": {
        "id": "zX0vBfxCAogn",
        "colab": {
          "base_uri": "https://localhost:8080/"
        },
        "outputId": "fc4ad557-892f-4421-b6d5-0126363fc149"
      },
      "execution_count": null,
      "outputs": [
        {
          "output_type": "stream",
          "name": "stdout",
          "text": [
            "Geben Sie die Länge des Passwortes ein: 21\n",
            "x2oG654-7&a9hqvEk2G4I\n"
          ]
        }
      ]
    },
    {
      "cell_type": "markdown",
      "source": [
        "# Sicheres Passwort generieren\n",
        "\n",
        "Es soll ein sicheres Passwort generiert werden. Hier kann der Code von oben teilweise wiederverwendet werden. "
      ],
      "metadata": {
        "id": "K8HLzSLtqNsZ"
      }
    },
    {
      "cell_type": "code",
      "source": [
        "import random\n",
        "\n",
        "numbers = ['0', '1', '2', '3', '4', '5', '6', '7', '8', '9']\n",
        "lower_case = ['a', 'b', 'c', 'd', 'e', 'f', 'g', 'h', 'i', 'j', 'k', 'l', 'm', 'n', 'o', 'p', 'q', 'r', 's', 't', 'u', 'v', 'w', 'x', 'y', 'z']\n",
        "upper_case = ['A', 'B', 'C', 'D', 'E', 'F', 'G', 'H', 'I', 'J', 'K', 'L', 'M', 'N', 'O', 'P', 'Q', 'R', 'S', 'T', 'U', 'V', 'W', 'X', 'Y', 'Z']\n",
        "special = ['%','&','-','!','?','$','=','§']\n",
        "charlist = numbers.copy()\n",
        "charlist.extend(lower_case)\n",
        "charlist.extend(upper_case)\n",
        "charlist.extend(special)\n",
        "\n",
        "def check_pw(pw):\n",
        "  upper = False\n",
        "  lower = False\n",
        "  number = False\n",
        "  length = False\n",
        "  special = False\n",
        "  msg = \"\"\n",
        "  if len(pw) >= 8:\n",
        "    length = True\n",
        "    for letter in pw:\n",
        "      if letter.isupper():\n",
        "        upper = True\n",
        "      elif letter.islower():\n",
        "        lower = True\n",
        "      elif letter.isdigit():\n",
        "        number = True\n",
        "      elif not letter.isalnum():\n",
        "        special = True\n",
        "    if not (upper and lower and number and special):\n",
        "      return False\n",
        "    return True\n",
        "  else:\n",
        "    return False\n",
        "    \n",
        "def add_characters(pw):\n",
        "  positions = random.sample(range(len(pw)),4)\n",
        "  positions.sort()\n",
        "  return pw[0:positions[0]] + random.choice(numbers) + pw[positions[0]+1:positions[1]] + random.choice(lower_case) + pw[positions[1]+1:positions[2]] + random.choice(upper_case) + pw[positions[2]+1:positions[3]] + random.choice(special) + pw[positions[3]+1:]\n",
        "  \n",
        "l = input(\"Geben Sie die Länge des Passwortes ein: \")\n",
        "\n",
        "pw = \"\"\n",
        "for c in range(int(l)):\n",
        "  element = random.choice(charlist)\n",
        "  pw = pw + element\n",
        "\n",
        "if not check_pw(pw):\n",
        "  pw = add_characters(pw)\n",
        "\n",
        "print('pw:', pw)\n",
        "print('length:', len(pw))\n"
      ],
      "metadata": {
        "colab": {
          "base_uri": "https://localhost:8080/"
        },
        "id": "aFTpFPs9qg-7",
        "outputId": "6e59d8a2-ddec-4d43-a496-34aec6fb7311"
      },
      "execution_count": 28,
      "outputs": [
        {
          "output_type": "stream",
          "name": "stdout",
          "text": [
            "Geben Sie die Länge des Passwortes ein: 4\n",
            "pw: 2bD-\n",
            "length: 4\n"
          ]
        }
      ]
    },
    {
      "cell_type": "code",
      "source": [
        ""
      ],
      "metadata": {
        "id": "S9qkcgB_u62T"
      },
      "execution_count": null,
      "outputs": []
    },
    {
      "cell_type": "markdown",
      "source": [
        "# Datei schreiben und lesen"
      ],
      "metadata": {
        "id": "xuBp-WA4-e0Z"
      }
    },
    {
      "cell_type": "markdown",
      "source": [
        "Mit Hilfe der Funktion open() kann in Python eine externe Datei geöffnet werden.\n",
        "Diese Funktion erwartet 2 Parameter.\n",
        "\n",
        "1. Parameter ist der Pfad der zu öffnenden Datei.\n",
        "2. Parameter ist der Modus in dem die Datei geöffnet werden soll:\n",
        "      1. r = zum Lesen\n",
        "      2. w = zum schreiben\n",
        "      3. x = zum Erstellen der Datei (Fehlercode wenn sie schon existiert)\n",
        "      4. a = zum Anhängen von Werten ans Ende der Datei\n",
        "      ...\n",
        "\n",
        "Die geöffnete Datei wird einer Variable zugewiesen.\n",
        "Über diese Variable können dann Funktionen aufgerufen werden, die zum Bearbeiten der Datei nötig sind:\n",
        "\n",
        "Beispiele Methoden:\n",
        "1. write() : Angabe eines einfachen String\n",
        "2. writelines() : Angabe einem oder mehrerer Strings\n",
        "\n",
        "\n"
      ],
      "metadata": {
        "id": "pISnXILN9zZV"
      }
    },
    {
      "cell_type": "code",
      "source": [
        "# Schreiben einer Datei Beispiel:\n",
        "\n",
        "import os\n",
        "from datetime import datetime\n",
        "hostname = input(\"Geben Sie eine IP oder eine URL an: \")\n",
        "response = os.system(\"ping \" + hostname)\n",
        "now = datetime.today().strftime('%Y-%m-%d-%H:%M:%S')\n",
        "\n",
        "#and then check the response...\n",
        "f = open(\"log.txt\", \"a\")\n",
        "if response == 0:\n",
        "    f.writelines(now + \" up \" + hostname + \"\\n\")\n",
        "else:\n",
        "    f.writelines(now + \" down \" + hostname + \"\\n\")\n",
        "f.close()"
      ],
      "metadata": {
        "colab": {
          "base_uri": "https://localhost:8080/"
        },
        "id": "w-MJHhJh-nop",
        "outputId": "805851d6-d31b-433a-c80a-04f6659e6f5a"
      },
      "execution_count": null,
      "outputs": [
        {
          "name": "stdout",
          "output_type": "stream",
          "text": [
            "Geben Sie eine IP oder eine URL an: 8.8.8.8\n"
          ]
        }
      ]
    },
    {
      "cell_type": "markdown",
      "source": [
        "Natürlich können auch Methoden genutzt werden, die beim Auslesen einer Datei helfen.\n",
        "\n",
        "Beispiele Methoden:\n",
        "1. read() : Datei wird als einfacher String gelesen (Gut für Regex)\n",
        "2. readline() : Liest die Datei Zeile für Zeile\n",
        "\n",
        "Möchte man Zeile für Zeile innerhalb einer Textdatei kontrollieren, bietet es sich an mit einer for-Schleife über die geöffnete datei zu iterieren. Dabei kann man direkt Zeile für Zeile ausgeben (siehe Beispiel).\n",
        "\n",
        "Mit der Methode strip() können in einem String alle Steuerzeichen (wie z.B. \\n) gelöscht werden.\n"
      ],
      "metadata": {
        "id": "eHWqR6KFw7MR"
      }
    },
    {
      "cell_type": "code",
      "source": [
        "# Lesen einer Datei Beispiel\n",
        "\n",
        "f = open(\"read.txt\", \"r\")\n",
        "ip = input(\"Geben Sie die IP des Gerätees an, welches sie prüfen wollen: \")\n",
        "for line in f:\n",
        "  stripline = line.strip()\n",
        "  reslist = stripline.split(\" \")\n",
        "  if reslist[1] == \"down\" and ip == reslist[2]:\n",
        "    print(reslist[2] + \" war am \" + reslist[0] + \" das 1. mal down!\")\n",
        "    break\n"
      ],
      "metadata": {
        "colab": {
          "base_uri": "https://localhost:8080/"
        },
        "id": "xS6xOwbCx1uI",
        "outputId": "de48f3e2-d327-4965-fbff-cc908be66e85"
      },
      "execution_count": 4,
      "outputs": [
        {
          "output_type": "stream",
          "name": "stdout",
          "text": [
            "Geben Sie die IP des Gerätees an, welches sie prüfen wollen: 8.8.8.8\n",
            "8.8.8.8 war am 2022-04-01-21:41:26 das 1. mal down!\n"
          ]
        }
      ]
    },
    {
      "cell_type": "markdown",
      "source": [
        "# **TODO**\n",
        "\n",
        "* Kreutzer"
      ],
      "metadata": {
        "id": "muUxnz5Wp4IG"
      }
    },
    {
      "cell_type": "code",
      "source": [
        "\n",
        "# Stufe 3 Überprüfung ob Eingabe korrekte IP oder URL\n",
        "\n",
        "import os\n",
        "from datetime import datetime\n",
        "from urllib.parse import urlparse\n",
        "\n",
        "def validIP(ip):\n",
        "    try:\n",
        "        oktettlist = ip.split('.')\n",
        "        if len(oktettlist) > 4 or len(oktettlist) < 4:\n",
        "            return False\n",
        "        else:\n",
        "            for oktett in oktettlist:\n",
        "                if int(oktett) < 0 or int(oktett) > 255:\n",
        "                    return False\n",
        "        return True\n",
        "    except Exception:\n",
        "        return False\n",
        "    \n",
        "def isurl(url):\n",
        "  try:\n",
        "    result = urlparse(url)\n",
        "    print(result)\n",
        "    print(result.netloc)\n",
        "    return all([result.scheme, result.netloc])\n",
        "  except ValueError:\n",
        "    return False\n",
        "\n",
        "hostname = input(\"Geben Sie eine IP oder eine URL an: \")\n",
        "validurl = isurl(hostname)\n",
        "validip = validIP(hostname)\n",
        "if validurl or validip:\n",
        "    print(\"hier\")\n",
        "    response = os.system(\"ping \" + hostname)\n",
        "    now = datetime.today().strftime('%Y-%m-%d-%H:%M:%S')\n",
        "\n",
        "    f = open(\"log.txt\", \"a\")\n",
        "    if response == 0:\n",
        "        f.writelines(now + \" up\\n\")\n",
        "    else:\n",
        "        f.writelines(now + \" down\\n\")\n",
        "    f.close()\n",
        "else:\n",
        "    print(\"Falsche Angabe!\")\n"
      ],
      "metadata": {
        "id": "ClsxhKzQAFdB",
        "colab": {
          "base_uri": "https://localhost:8080/"
        },
        "outputId": "fcf3f855-cc2b-44e7-c19d-870debce1f6a"
      },
      "execution_count": null,
      "outputs": [
        {
          "output_type": "stream",
          "name": "stdout",
          "text": [
            "Geben Sie eine IP oder eine URL an: http://kjhj.jh\n",
            "ParseResult(scheme='http', netloc='kjhj.jh', path='', params='', query='', fragment='')\n",
            "kjhj.jh\n",
            "hier\n"
          ]
        }
      ]
    }
  ]
}